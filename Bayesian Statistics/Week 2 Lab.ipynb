{
 "cells": [
  {
   "cell_type": "markdown",
   "metadata": {},
   "source": [
    "Suppose the posterior distribution of μ follows a Normal distribution with mean 10 and variance 5. Which of the following are the bounds of a 95% credible interval for μ? Answer this question using the app"
   ]
  },
  {
   "cell_type": "markdown",
   "metadata": {},
   "source": [
    "(5.618, 14.382)"
   ]
  },
  {
   "cell_type": "markdown",
   "metadata": {},
   "source": [
    "Suppose the posterior distribution of p follows a Beta distribution with α=2 and β=5. Which of the following are the bounds of a 90% credible interval for p? Answer this question using the app"
   ]
  },
  {
   "cell_type": "markdown",
   "metadata": {},
   "source": [
    "(0.043, 0.641)"
   ]
  },
  {
   "cell_type": "markdown",
   "metadata": {},
   "source": [
    "Suppose the posterior distribution of λ follows a Gamma distribution with α=4 and β=8. Which of the following are the bounds of a 99% credible interval for λ? Answer this question using the app."
   ]
  },
  {
   "cell_type": "markdown",
   "metadata": {},
   "source": [
    "(0.084, 1.372)"
   ]
  },
  {
   "cell_type": "markdown",
   "metadata": {},
   "source": [
    "What is the 95% credible interval for p, the proportion of females in the population, based on the posterior distribution obtained with the updating rule shown above. Use the credible interval app to answer this question."
   ]
  },
  {
   "cell_type": "markdown",
   "metadata": {},
   "source": [
    "(0.503, 0.531)"
   ]
  },
  {
   "cell_type": "markdown",
   "metadata": {},
   "source": [
    "Which of the following is the correct Bayesian interpretation of this interval?"
   ]
  },
  {
   "cell_type": "markdown",
   "metadata": {},
   "source": [
    "95% of the time the true proportion of females is in this interval."
   ]
  },
  {
   "cell_type": "markdown",
   "metadata": {},
   "source": [
    "What is the 95% credible interval for p, the proportion of females in the population, based on a prior distribution of Beta(a=500,b=500)."
   ]
  },
  {
   "cell_type": "markdown",
   "metadata": {},
   "source": [
    "Which is of the following is the center of the Beta(a=5,b=200) distribution? Hint: modify the code under the distribution plot to get the center."
   ]
  },
  {
   "cell_type": "markdown",
   "metadata": {},
   "source": [
    "What is the 95% credible interval for p, the proportion of females in the population, based on a prior distribution of Beta(a=5,b=200)."
   ]
  },
  {
   "cell_type": "markdown",
   "metadata": {},
   "source": [
    "What is the 90% credible interval for p, the proportion of Americans who exercise, based on a uniform prior distribution?"
   ]
  },
  {
   "cell_type": "markdown",
   "metadata": {},
   "source": [
    "Using the multi-observation updating rule, what should the posterior distribution be when the hyperparameters of the Gamma prior are a=4 and b=1, and we have observed the data x={2,3,4,5,4}."
   ]
  },
  {
   "cell_type": "markdown",
   "metadata": {},
   "source": [
    "The government recommends that Americans consume approximately 5 servings of fruits per day. Which of the following represents a weak prior that Americans on average follow this recommendation?"
   ]
  },
  {
   "cell_type": "markdown",
   "metadata": {},
   "source": [
    "Using the correct prior distribution from the previous question and the data of fruit_per_day in the BRFSS dataset, calculate the hyperparameters of the posterior distribution."
   ]
  },
  {
   "cell_type": "markdown",
   "metadata": {},
   "source": [
    "Using the correct posterior distribution from the previous question, calculate the 90% credible interval for λ, the expected number of servings of fruit Americans consume per day."
   ]
  },
  {
   "cell_type": "markdown",
   "metadata": {},
   "source": [
    "Based on this result, do Americans appear to follow the government guidelines which recommend consuming 5 servings of fruits per day?"
   ]
  },
  {
   "cell_type": "code",
   "execution_count": null,
   "metadata": {},
   "outputs": [],
   "source": []
  }
 ],
 "metadata": {
  "kernelspec": {
   "display_name": "Python 3",
   "language": "python",
   "name": "python3"
  },
  "language_info": {
   "codemirror_mode": {
    "name": "ipython",
    "version": 3
   },
   "file_extension": ".py",
   "mimetype": "text/x-python",
   "name": "python",
   "nbconvert_exporter": "python",
   "pygments_lexer": "ipython3",
   "version": "3.8.5"
  }
 },
 "nbformat": 4,
 "nbformat_minor": 4
}
